{
 "cells": [
  {
   "cell_type": "markdown",
   "id": "1ace851d",
   "metadata": {},
   "source": [
    "# Fysikklab, gruppe 206, team 3\n",
    "___Vetle Almås, Oda Vinje Lind, Nadia Andersen Sayed, Marte Stürtzel gulbrandsen___\n",
    "\n",
    "Følgende notebook genererer en rullebane basert på koordinatene til åtte festepunkter. \n",
    "Baneformen $y(x)$ beregnes med __CubicSpline__ fra interpolate-biblioteket i SciPy. "
   ]
  },
  {
   "cell_type": "markdown",
   "id": "a3512dba",
   "metadata": {},
   "source": [
    "Først kommer kodene som er nødvednige for å plotte figuren med våre egne verdier. Her setter vi inn festepunktene for berg-og-dal-bannen vår som er:\n",
    "\n",
    "<par> $[0.263, 0.212, 0.206, 0.169, 0.181, 0.168, 0.169, 0.118]$"
   ]
  },
  {
   "cell_type": "code",
   "execution_count": null,
   "id": "203439a7",
   "metadata": {
    "ExecuteTime": {
     "end_time": "2022-09-20T14:59:50.109885Z",
     "start_time": "2022-09-20T14:59:50.096976Z"
    }
   },
   "outputs": [],
   "source": [
    "import matplotlib.pyplot as plt\n",
    "import numpy as np\n",
    "from scipy.interpolate import CubicSpline\n",
    "\n",
    "h = 0.200\n",
    "xfast=np.asarray([0,h,2*h,3*h,4*h,5*h,6*h,7*h])\n",
    "\n",
    "xmin = 0.000\n",
    "xmax = 1.401\n",
    "dx = 0.001\n",
    "ymax = 3000\n",
    "\n",
    "yfast = []\n",
    "yfast_m = [0.263, 0.212, 0.206, 0.169, 0.181, 0.168, 0.169, 0.118] #yfast i meter\n",
    "\n",
    "for i in yfast_m:\n",
    "    j = i/1000\n",
    "    yfast.append(int(j)) #ny liste med yfast i mm\n",
    "\n",
    "inttan = np.diff(yfast)/h\n",
    "cs = CubicSpline(xfast, yfast, bc_type='natural')\n",
    "\n",
    "xmin = 0.000\n",
    "xmax = 1.401\n",
    "dx = 0.001\n",
    "\n",
    "x = np.arange(xmin, xmax, dx) \n",
    "\n",
    "Nx = len(x)\n",
    "y = cs(x)       \n",
    "dy = cs(x,1)    \n",
    "d2y = cs(x,2)   "
   ]
  },
  {
   "cell_type": "markdown",
   "id": "f271c745",
   "metadata": {
    "ExecuteTime": {
     "end_time": "2022-09-20T09:12:45.840205Z",
     "start_time": "2022-09-20T09:12:45.822184Z"
    }
   },
   "source": [
    "# Her kommer våre egne beregninger\n",
    "\n",
    "Først velger vi baneformen og finner fart ved å sette inn funksjonen, $v(x) = \\sqrt\\frac{2g(y_{0} - y(x))}{1 + c}$. Verdier fra teoriarket:\n",
    "\n",
    "<par><li> $c = 2 / 5 $\n",
    "    \n",
    "<par><li> $M = 31 [g] = 0.031 [kg]$\n",
    "    \n",
    "<par><li> $R = 11 [mm] = 0.011 [m]$\n",
    "    \n",
    "<par><li> $g = 9.81 [m/s^2]$\n",
    "    \n",
    "`v_x` tilsvarer hastigheten i x-retning <br>"
   ]
  },
  {
   "cell_type": "code",
   "execution_count": null,
   "id": "3460f6aa",
   "metadata": {
    "ExecuteTime": {
     "end_time": "2022-09-20T14:59:50.129586Z",
     "start_time": "2022-09-20T14:59:50.113491Z"
    }
   },
   "outputs": [],
   "source": [
    "g = 9.81\n",
    "M = 0.0304\n",
    "R = 0.011\n",
    "c = 2/5\n",
    "#Io = c*M*R**2\n",
    "\n",
    "v_x = np.sqrt(2*g*(y[0]-y)/(1+c))"
   ]
  },
  {
   "cell_type": "markdown",
   "id": "c823dbc7",
   "metadata": {
    "ExecuteTime": {
     "end_time": "2022-09-20T09:25:17.713877Z",
     "start_time": "2022-09-20T09:25:17.704875Z"
    }
   },
   "source": [
    "Deretter ønsker vi å definere krumningen, $κ = \\frac{y''}{[1 + (y')^2]^{3/2}}$, og sentripetalakselerasjonen, $a⊥  = v^2κ$.  Vi finner helningsvinkelen, $β$ ved å ta $\\frac{dy}{dx}$ gjennom numpy-funksjonen $np.arctan()$. Krumning og sentripetalakselerasjon brukes i ligningen for å finne normalkraften, $N$. \n",
    "Ligningen for normalkraft kommer fra:\n",
    "\n",
    "<par><li> $N − Mg cos β = M a⊥$\n",
    "    \n",
    "`k` tilsvarer krumningen <br>\n",
    "`a_s` tilsvarer sentripetalakselerasjonen <br>\n",
    "`beta` tilsvarer helningsvinkelen <br>\n",
    "`f` tilsvarer friksjonen <br>\n",
    "`N` tilsvarer normalkraften <br>\n",
    "`fN` tilsvarer absoluttverdien av friksjonen delt på normalkraften <br>"
   ]
  },
  {
   "cell_type": "code",
   "execution_count": null,
   "id": "de4dba68",
   "metadata": {
    "ExecuteTime": {
     "end_time": "2022-09-20T14:59:50.149361Z",
     "start_time": "2022-09-20T14:59:50.132801Z"
    }
   },
   "outputs": [],
   "source": [
    "k = d2y/(1+((dy**2))**(3/2))\n",
    "a_s = (v_x**2)*k\n",
    "beta = np.arctan(dy)\n",
    "\n",
    "f = (2*M*g*np.sin(beta))/7\n",
    "N = M*(g*np.cos(beta)+a_s)\n",
    "fN = np.abs(f/N)"
   ]
  },
  {
   "cell_type": "markdown",
   "id": "b9a81f66",
   "metadata": {},
   "source": [
    "For å finne tiden som kulen bruker bortover x-aksen så ønsker man å finne fartskomponenten i x-retning. Dette gjør vi ved å gange arrayen `Vx` med $cos β$. Vi lager en array med kun nullere. Deretter itererer vi over denne og setter $V_{ax} = {(V_{x}[i+1] + V_x[i])}* \\frac{1}{2}$. For å finne tiden lager vi en ny liste med nullere. Vi lager så en ny array, $∆t = \\frac{∆x}{V_{ax}}$ og itererer over denne ved å setter $t = t + ∆t$. Vi får da ut en array som viser hvor lang tid den har brukt til et gitt punkt på x-aksen.\n",
    "\n",
    "`Vx` tilsvarer banefarten <br>\n",
    "`V_ax`tilsvarer gjennomsnittsfarten mellom to punkt i x-retning <br>\n",
    "`dt` tilsvarer tiden kulen har brukt på intervallet <br>\n",
    "`t` tilsvarer tiden brukt til neste punkt på x-aksen <br>"
   ]
  },
  {
   "cell_type": "code",
   "execution_count": null,
   "id": "4bf9f0cd",
   "metadata": {
    "ExecuteTime": {
     "end_time": "2022-09-20T14:59:50.168380Z",
     "start_time": "2022-09-20T14:59:50.155186Z"
    }
   },
   "outputs": [],
   "source": [
    "Vx = v_x * np.cos(beta)\n",
    "V_ax = np.zeros(Nx-1)\n",
    "for i in range(Nx-1):\n",
    "    V_ax[i] = 0.5*(Vx[i+1]+Vx[i])\n",
    "    \n",
    "dt = dx/V_ax #brukes denne slik som teksten sier??\n",
    "\n",
    "t = np.zeros(Nx)\n",
    "for i in range(Nx-1):\n",
    "    t[i+1] = t[i]+dt[i]"
   ]
  },
  {
   "cell_type": "markdown",
   "id": "2713780b",
   "metadata": {},
   "source": [
    "__Baneform:__"
   ]
  },
  {
   "cell_type": "code",
   "execution_count": null,
   "id": "edd39fb3",
   "metadata": {},
   "outputs": [],
   "source": [
    "baneform = plt.figure('y(x)',figsize=(12,6))\n",
    "plt.plot(x,y,xfast,yfast,'*')\n",
    "plt.title('Banens form')\n",
    "plt.xlabel('$x$ (m)',fontsize=20)\n",
    "plt.ylabel('$y(x)$ (m)',fontsize=20)\n",
    "plt.ylim(0.0,0.40)\n",
    "plt.grid()\n",
    "plt.show()\n",
    "\n",
    "print('Starthøyde:',yfast[0]*100,'cm')\n",
    "print('Festepunkthøyder(m)',yfast)"
   ]
  },
  {
   "cell_type": "markdown",
   "id": "c18f64d7",
   "metadata": {},
   "source": [
    "Banens __helningsvinkel__ $β$ overstiger ikke ...◦\n",
    "i absoluttverdi:"
   ]
  },
  {
   "cell_type": "code",
   "execution_count": null,
   "id": "8795a545",
   "metadata": {},
   "outputs": [],
   "source": [
    "helningsvinkel = plt.figure('v(x)',figsize=(12,6))\n",
    "plt.plot(x, beta)\n",
    "plt.title('Helningsvinkel')\n",
    "plt.xlabel('$x$ (m)',fontsize=20)\n",
    "plt.ylabel('$β(grader)$',fontsize=20)\n",
    "plt.grid()\n",
    "plt.show()"
   ]
  },
  {
   "cell_type": "markdown",
   "id": "58af4a83",
   "metadata": {},
   "source": [
    "Banens __krumning__ ligger mellom ... og ..., slik at minste krumningsradius er ca. ... ."
   ]
  },
  {
   "cell_type": "code",
   "execution_count": null,
   "id": "5e06ac6b",
   "metadata": {},
   "outputs": [],
   "source": [
    "krumming = plt.figure('v(x)',figsize=(12,6))\n",
    "plt.plot(x, k)\n",
    "plt.title('Krumning')\n",
    "plt.xlabel('$x$ (m)',fontsize=20)\n",
    "plt.ylabel('$K(x)(1/m)$',fontsize=20)\n",
    "plt.grid()\n",
    "plt.show()"
   ]
  },
  {
   "cell_type": "markdown",
   "id": "bb80fc5b",
   "metadata": {},
   "source": [
    "Med en kompakt kule ($c = \\frac{2}{5}$) og $m = 30.4 g$ blir __fartsgrafen:__"
   ]
  },
  {
   "cell_type": "code",
   "execution_count": null,
   "id": "0f2a4797",
   "metadata": {
    "ExecuteTime": {
     "end_time": "2022-09-20T14:59:50.637393Z",
     "start_time": "2022-09-20T14:59:50.171447Z"
    }
   },
   "outputs": [],
   "source": [
    "fart = plt.figure('v(x)',figsize=(12,6))\n",
    "plt.plot(x, v_x)\n",
    "plt.title('Fart som funksjon av x')\n",
    "plt.xlabel('$x$ (m)',fontsize=20)\n",
    "plt.ylabel('$v$ (m/s)',fontsize=20)\n",
    "plt.grid()\n",
    "plt.show()"
   ]
  },
  {
   "cell_type": "markdown",
   "id": "df2d5377",
   "metadata": {},
   "source": [
    "__Normalkraften:__"
   ]
  },
  {
   "cell_type": "code",
   "execution_count": null,
   "id": "462051fe",
   "metadata": {},
   "outputs": [],
   "source": [
    "normalkraft = plt.figure('v(x)',figsize=(12,6))\n",
    "plt.plot(x, N/M*g)\n",
    "plt.title('Normalkraft')\n",
    "plt.xlabel('$x$ (m)',fontsize=20)\n",
    "plt.ylabel('$N/Mg$',fontsize=20)\n",
    "plt.grid()\n",
    "plt.show()"
   ]
  },
  {
   "cell_type": "markdown",
   "id": "349672ca",
   "metadata": {},
   "source": [
    "__Forholdet mellom friksjonskraften og normalkraften__ overstiger ikke verdeien ...:"
   ]
  },
  {
   "cell_type": "code",
   "execution_count": null,
   "id": "bfdf646e",
   "metadata": {
    "ExecuteTime": {
     "end_time": "2022-09-20T14:59:51.931196Z",
     "start_time": "2022-09-20T14:59:51.504526Z"
    }
   },
   "outputs": [],
   "source": [
    "friksjon= plt.figure('v(x)',figsize=(12,6))\n",
    "plt.plot(x, fN)\n",
    "plt.title('Forhold mellom friksjonskraft og normalkraft')\n",
    "plt.xlabel('$x$ (m)',fontsize=20)\n",
    "plt.ylabel('$|f/N|$',fontsize=20)\n",
    "plt.grid()\n",
    "plt.show()"
   ]
  },
  {
   "cell_type": "markdown",
   "id": "a550381e",
   "metadata": {},
   "source": [
    "__Horistontal posisjon som funksjon av tid:__"
   ]
  },
  {
   "cell_type": "code",
   "execution_count": null,
   "id": "09fbb0bc",
   "metadata": {
    "ExecuteTime": {
     "end_time": "2022-09-20T14:59:52.720584Z",
     "start_time": "2022-09-20T14:59:52.331341Z"
    }
   },
   "outputs": [],
   "source": [
    "tid = plt.figure('v(x)',figsize=(12,6))\n",
    "plt.plot(t, x)\n",
    "plt.title('Horisontal posisjon som funksjon av tiden')\n",
    "plt.xlabel('$t$ (s)',fontsize=20)\n",
    "plt.ylabel('$x$ (m)',fontsize=20)\n",
    "plt.grid()\n",
    "plt.show()\n",
    "\n",
    "print('Vi ser at reisen tok ca.', t , 'sekunder.') #legge inn t"
   ]
  },
  {
   "cell_type": "markdown",
   "id": "8b81b3ff",
   "metadata": {},
   "source": [
    "__Hastighet v som funksjon av tiden t:__"
   ]
  },
  {
   "cell_type": "code",
   "execution_count": null,
   "id": "9f0a6bbb",
   "metadata": {
    "ExecuteTime": {
     "end_time": "2022-09-20T14:59:53.112226Z",
     "start_time": "2022-09-20T14:59:52.723603Z"
    }
   },
   "outputs": [],
   "source": [
    "fartvedtid = plt.figure('v(x)',figsize=(12,6))\n",
    "plt.plot(t, v_x)\n",
    "plt.title('Hastighet som funksjon av tiden')\n",
    "plt.xlabel('$t$ (s)',fontsize=20)\n",
    "plt.ylabel('$v$ (m/s)',fontsize=20)\n",
    "plt.grid()\n",
    "plt.show()"
   ]
  }
 ],
 "metadata": {
  "kernelspec": {
   "display_name": "Python 3 (ipykernel)",
   "language": "python",
   "name": "python3"
  },
  "language_info": {
   "codemirror_mode": {
    "name": "ipython",
    "version": 3
   },
   "file_extension": ".py",
   "mimetype": "text/x-python",
   "name": "python",
   "nbconvert_exporter": "python",
   "pygments_lexer": "ipython3",
   "version": "3.9.12"
  },
  "latex_envs": {
   "LaTeX_envs_menu_present": true,
   "autoclose": false,
   "autocomplete": true,
   "bibliofile": "biblio.bib",
   "cite_by": "apalike",
   "current_citInitial": 1,
   "eqLabelWithNumbers": true,
   "eqNumInitial": 1,
   "hotkeys": {
    "equation": "Ctrl-E",
    "itemize": "Ctrl-I"
   },
   "labels_anchors": false,
   "latex_user_defs": false,
   "report_style_numbering": false,
   "user_envs_cfg": false
  }
 },
 "nbformat": 4,
 "nbformat_minor": 5
}
